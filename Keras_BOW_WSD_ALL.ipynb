{
 "cells": [
  {
   "cell_type": "code",
   "execution_count": 1,
   "metadata": {},
   "outputs": [
    {
     "name": "stderr",
     "output_type": "stream",
     "text": [
      "Using TensorFlow backend.\n"
     ]
    }
   ],
   "source": [
    "import itertools\n",
    "import os\n",
    "\n",
    "%matplotlib inline\n",
    "import matplotlib.pyplot as plt\n",
    "import numpy as np\n",
    "import pandas as pd\n",
    "import tensorflow as tf\n",
    "\n",
    "import logging\n",
    "from numpy import random\n",
    "import gensim\n",
    "import nltk\n",
    "\n",
    "from sklearn.model_selection import train_test_split\n",
    "from sklearn.feature_extraction.text import CountVectorizer, TfidfVectorizer\n",
    "from sklearn.metrics import accuracy_score, confusion_matrix\n",
    "import matplotlib.pyplot as plt\n",
    "from nltk.corpus import stopwords\n",
    "import re\n",
    "from bs4 import BeautifulSoup\n",
    "%matplotlib inline\n",
    "\n",
    "from sklearn.preprocessing import LabelBinarizer, LabelEncoder\n",
    "from sklearn.metrics import confusion_matrix\n",
    "\n",
    "from tensorflow import keras\n",
    "from keras.models import Sequential\n",
    "from keras.layers import Dense, Activation, Dropout\n",
    "from keras.preprocessing import text, sequence\n",
    "from keras import utils"
   ]
  },
  {
   "cell_type": "code",
   "execution_count": 10,
   "metadata": {},
   "outputs": [
    {
     "name": "stdout",
     "output_type": "stream",
     "text": [
      "                                            SENTENCE CATEGORY\n",
      "0  Tidak menghalang Kaka untuk meneruskan karier ...  manisan\n",
      "1  Pelakon Sasqia Dahuri yang sah menjadi isteri ...  manisan\n",
      "2  Sebagai kafe yang mengutamakan status halal, k...  manisan\n",
      "4729\n"
     ]
    }
   ],
   "source": [
    "df = pd.read_excel('wsd_data.xlsx')\n",
    "df = df[pd.notnull(df['CATEGORY'])]\n",
    "print(df.head(3))\n",
    "print(df['SENTENCE'].apply(lambda x: len(x.split(' '))).sum())"
   ]
  },
  {
   "cell_type": "code",
   "execution_count": 11,
   "metadata": {},
   "outputs": [
    {
     "data": {
      "image/png": "[encoded data removed]",
      "text/plain": [
       "<Figure size 720x432 with 1 Axes>"
      ]
     },
     "metadata": {
      "needs_background": "light"
     },
     "output_type": "display_data"
    }
   ],
   "source": [
    "my_tags = ['manisan','manusia','kaki','tangan','periksa','tumbuhan']\n",
    "plt.figure(figsize=(10,6))\n",
    "df.CATEGORY.value_counts().plot(kind='bar');"
   ]
  },
  {
   "cell_type": "code",
   "execution_count": 12,
   "metadata": {},
   "outputs": [],
   "source": [
    "REPLACE_BY_SPACE_RE = re.compile('[/(){}\\[\\]\\|@,;]')\n",
    "BAD_SYMBOLS_RE = re.compile('[^0-9a-z #+_]')\n",
    "STOPWORDS = set(stopwords.words('english'))\n",
    "\n",
    "def clean_text(text):\n",
    "    \"\"\"\n",
    "        text: a string\n",
    "        \n",
    "        return: modified initial string\n",
    "    \"\"\"\n",
    "    text = BeautifulSoup(text, \"lxml\").text # HTML decoding\n",
    "    text = text.lower() # lowercase text\n",
    "    text = REPLACE_BY_SPACE_RE.sub(' ', text) # replace REPLACE_BY_SPACE_RE symbols by space in text\n",
    "    text = BAD_SYMBOLS_RE.sub('', text) # delete symbols which are in BAD_SYMBOLS_RE from text\n",
    "    text = ' '.join(word for word in text.split() if word not in STOPWORDS) # delete stopwors from text\n",
    "    return text\n",
    "    \n",
    "df['SENTENCE'] = df['SENTENCE'].apply(clean_text)"
   ]
  },
  {
   "cell_type": "code",
   "execution_count": 13,
   "metadata": {},
   "outputs": [
    {
     "data": {
      "text/plain": [
       "4659"
      ]
     },
     "execution_count": 13,
     "metadata": {},
     "output_type": "execute_result"
    }
   ],
   "source": [
    "df['SENTENCE'].apply(lambda x: len(x.split(' '))).sum()"
   ]
  },
  {
   "cell_type": "code",
   "execution_count": 14,
   "metadata": {},
   "outputs": [],
   "source": [
    "X = df.SENTENCE\n",
    "y = df.CATEGORY\n",
    "X_train, X_test, y_train, y_test = train_test_split(X, y, test_size=0.3, random_state = 42)"
   ]
  },
  {
   "cell_type": "code",
   "execution_count": 15,
   "metadata": {},
   "outputs": [
    {
     "name": "stdout",
     "output_type": "stream",
     "text": [
      "Wall time: 0 ns\n",
      "accuracy 0.7605633802816901\n",
      "             precision    recall  f1-score   support\n",
      "\n",
      "    manisan       0.67      1.00      0.80        22\n",
      "    manusia       0.71      0.92      0.80        13\n",
      "       kaki       1.00      0.64      0.78        11\n",
      "     tangan       0.93      0.81      0.87        16\n",
      "    periksa       0.00      0.00      0.00         1\n",
      "   tumbuhan       0.00      0.00      0.00         8\n",
      "\n",
      "avg / total       0.70      0.76      0.71        71\n",
      "\n"
     ]
    },
    {
     "name": "stderr",
     "output_type": "stream",
     "text": [
      "C:\\Users\\ifa\\Anaconda3\\envs\\python36\\lib\\site-packages\\sklearn\\metrics\\classification.py:1135: UndefinedMetricWarning: Precision and F-score are ill-defined and being set to 0.0 in labels with no predicted samples.\n",
      "  'precision', 'predicted', average, warn_for)\n"
     ]
    }
   ],
   "source": [
    "from sklearn.naive_bayes import MultinomialNB\n",
    "from sklearn.pipeline import Pipeline\n",
    "from sklearn.feature_extraction.text import TfidfTransformer\n",
    "\n",
    "nb = Pipeline([('vect', CountVectorizer()),\n",
    "               ('tfidf', TfidfTransformer()),\n",
    "               ('clf', MultinomialNB()),\n",
    "              ])\n",
    "nb.fit(X_train, y_train)\n",
    "\n",
    "%time\n",
    "from sklearn.metrics import classification_report\n",
    "y_pred = nb.predict(X_test)\n",
    "\n",
    "print('accuracy %s' % accuracy_score(y_pred, y_test))\n",
    "print(classification_report(y_test, y_pred,target_names=my_tags))"
   ]
  },
  {
   "cell_type": "code",
   "execution_count": 16,
   "metadata": {},
   "outputs": [
    {
     "name": "stdout",
     "output_type": "stream",
     "text": [
      "Wall time: 0 ns\n",
      "accuracy 0.8591549295774648\n",
      "             precision    recall  f1-score   support\n",
      "\n",
      "    manisan       0.95      0.95      0.95        22\n",
      "    manusia       0.80      0.92      0.86        13\n",
      "       kaki       1.00      0.82      0.90        11\n",
      "     tangan       0.75      0.94      0.83        16\n",
      "    periksa       0.50      1.00      0.67         1\n",
      "   tumbuhan       1.00      0.38      0.55         8\n",
      "\n",
      "avg / total       0.89      0.86      0.85        71\n",
      "\n"
     ]
    }
   ],
   "source": [
    "from sklearn.linear_model import SGDClassifier\n",
    "\n",
    "sgd = Pipeline([('vect', CountVectorizer()),\n",
    "                ('tfidf', TfidfTransformer()),\n",
    "                ('clf', SGDClassifier(loss='hinge', penalty='l2',alpha=1e-3, random_state=42, max_iter=5, tol=None)),\n",
    "               ])\n",
    "sgd.fit(X_train, y_train)\n",
    "\n",
    "%time\n",
    "\n",
    "y_pred = sgd.predict(X_test)\n",
    "\n",
    "print('accuracy %s' % accuracy_score(y_pred, y_test))\n",
    "print(classification_report(y_test, y_pred,target_names=my_tags))"
   ]
  },
  {
   "cell_type": "code",
   "execution_count": 17,
   "metadata": {},
   "outputs": [
    {
     "name": "stdout",
     "output_type": "stream",
     "text": [
      "Wall time: 0 ns\n",
      "accuracy 0.8591549295774648\n",
      "             precision    recall  f1-score   support\n",
      "\n",
      "    manisan       0.95      0.95      0.95        22\n",
      "    manusia       0.86      0.92      0.89        13\n",
      "       kaki       0.90      0.82      0.86        11\n",
      "     tangan       0.75      0.94      0.83        16\n",
      "    periksa       0.50      1.00      0.67         1\n",
      "   tumbuhan       1.00      0.38      0.55         8\n",
      "\n",
      "avg / total       0.88      0.86      0.85        71\n",
      "\n"
     ]
    }
   ],
   "source": [
    "from sklearn.linear_model import LogisticRegression\n",
    "\n",
    "logreg = Pipeline([('vect', CountVectorizer()),\n",
    "                ('tfidf', TfidfTransformer()),\n",
    "                ('clf', LogisticRegression(n_jobs=1, C=1e5)),\n",
    "               ])\n",
    "logreg.fit(X_train, y_train)\n",
    "\n",
    "%time\n",
    "\n",
    "y_pred = logreg.predict(X_test)\n",
    "\n",
    "print('accuracy %s' % accuracy_score(y_pred, y_test))\n",
    "print(classification_report(y_test, y_pred,target_names=my_tags))"
   ]
  },
  {
   "cell_type": "code",
   "execution_count": 23,
   "metadata": {},
   "outputs": [
    {
     "name": "stdout",
     "output_type": "stream",
     "text": [
      "Train on 148 samples, validate on 17 samples\n",
      "Epoch 1/20\n",
      "148/148 [==============================] - 1s 7ms/step - loss: 1.7868 - acc: 0.2027 - val_loss: 1.6371 - val_acc: 0.5294\n",
      "Epoch 2/20\n",
      "148/148 [==============================] - 0s 708us/step - loss: 1.4958 - acc: 0.6284 - val_loss: 1.4621 - val_acc: 0.7647\n",
      "Epoch 3/20\n",
      "148/148 [==============================] - 0s 754us/step - loss: 1.2240 - acc: 0.8784 - val_loss: 1.3054 - val_acc: 0.8235\n",
      "Epoch 4/20\n",
      "148/148 [==============================] - 0s 752us/step - loss: 1.0193 - acc: 0.9189 - val_loss: 1.1609 - val_acc: 0.8235\n",
      "Epoch 5/20\n",
      "148/148 [==============================] - 0s 685us/step - loss: 0.8375 - acc: 0.9122 - val_loss: 1.0334 - val_acc: 0.8235\n",
      "Epoch 6/20\n",
      "148/148 [==============================] - 0s 748us/step - loss: 0.6709 - acc: 0.9324 - val_loss: 0.9110 - val_acc: 0.8235\n",
      "Epoch 7/20\n",
      "148/148 [==============================] - 0s 713us/step - loss: 0.5406 - acc: 0.9324 - val_loss: 0.8034 - val_acc: 0.8824\n",
      "Epoch 8/20\n",
      "148/148 [==============================] - 0s 671us/step - loss: 0.4321 - acc: 0.9527 - val_loss: 0.7089 - val_acc: 0.8824\n",
      "Epoch 9/20\n",
      "148/148 [==============================] - 0s 723us/step - loss: 0.3367 - acc: 0.9595 - val_loss: 0.6289 - val_acc: 0.9412\n",
      "Epoch 10/20\n",
      "148/148 [==============================] - 0s 715us/step - loss: 0.2858 - acc: 0.9730 - val_loss: 0.5626 - val_acc: 0.9412\n",
      "Epoch 11/20\n",
      "148/148 [==============================] - 0s 746us/step - loss: 0.2214 - acc: 0.9797 - val_loss: 0.5082 - val_acc: 0.9412\n",
      "Epoch 12/20\n",
      "148/148 [==============================] - 0s 761us/step - loss: 0.1889 - acc: 0.9797 - val_loss: 0.4622 - val_acc: 1.0000\n",
      "Epoch 13/20\n",
      "148/148 [==============================] - 0s 760us/step - loss: 0.1543 - acc: 0.9932 - val_loss: 0.4237 - val_acc: 1.0000\n",
      "Epoch 14/20\n",
      "148/148 [==============================] - 0s 765us/step - loss: 0.1349 - acc: 0.9865 - val_loss: 0.3909 - val_acc: 1.0000\n",
      "Epoch 15/20\n",
      "148/148 [==============================] - 0s 794us/step - loss: 0.1112 - acc: 0.9865 - val_loss: 0.3649 - val_acc: 1.0000\n",
      "Epoch 16/20\n",
      "148/148 [==============================] - 0s 710us/step - loss: 0.0949 - acc: 0.9932 - val_loss: 0.3448 - val_acc: 1.0000\n",
      "Epoch 17/20\n",
      "148/148 [==============================] - 0s 758us/step - loss: 0.0814 - acc: 0.9932 - val_loss: 0.3274 - val_acc: 1.0000\n",
      "Epoch 18/20\n",
      "148/148 [==============================] - 0s 820us/step - loss: 0.0702 - acc: 1.0000 - val_loss: 0.3120 - val_acc: 1.0000\n",
      "Epoch 19/20\n",
      "148/148 [==============================] - 0s 689us/step - loss: 0.0609 - acc: 1.0000 - val_loss: 0.2990 - val_acc: 1.0000\n",
      "Epoch 20/20\n",
      "148/148 [==============================] - 0s 680us/step - loss: 0.0560 - acc: 1.0000 - val_loss: 0.2867 - val_acc: 1.0000\n"
     ]
    }
   ],
   "source": [
    "X = df.SENTENCE\n",
    "y = df.CATEGORY\n",
    "train_posts, test_posts, train_tags, test_tags = train_test_split(X, y, test_size=0.3, random_state = 42)\n",
    "\n",
    "#train_size = int(len(df) * .7)\n",
    "#train_posts = df['SENTENCE'][:train_size]\n",
    "#train_tags = df['CATEGORY'][:train_size]\n",
    "\n",
    "#test_posts = df['SENTENCE'][train_size:]\n",
    "#test_tags = df['CATEGORY'][train_size:]\n",
    "\n",
    "max_words = 1000\n",
    "tokenize = text.Tokenizer(num_words=max_words, char_level=False)\n",
    "tokenize.fit_on_texts(train_posts) # only fit on train\n",
    "\n",
    "x_train = tokenize.texts_to_matrix(train_posts)\n",
    "x_test = tokenize.texts_to_matrix(test_posts)\n",
    "\n",
    "encoder = LabelEncoder()\n",
    "encoder.fit(train_tags)\n",
    "y_train = encoder.transform(train_tags)\n",
    "y_test = encoder.transform(test_tags)\n",
    "\n",
    "num_classes = np.max(y_train) + 1\n",
    "y_train = utils.to_categorical(y_train, num_classes)\n",
    "y_test = utils.to_categorical(y_test, num_classes)\n",
    "\n",
    "batch_size = 32\n",
    "epochs = 20\n",
    "\n",
    "# Build the model\n",
    "model = Sequential()\n",
    "model.add(Dense(512, input_shape=(max_words,)))\n",
    "model.add(Activation('relu'))\n",
    "model.add(Dropout(0.5))\n",
    "model.add(Dense(num_classes))\n",
    "model.add(Activation('softmax'))\n",
    "\n",
    "model.compile(loss='categorical_crossentropy',\n",
    "              optimizer='adam',\n",
    "              metrics=['accuracy'])\n",
    "              \n",
    "history = model.fit(x_train, y_train,\n",
    "                    batch_size=batch_size,\n",
    "                    epochs=epochs,\n",
    "                    verbose=1,\n",
    "                    validation_split=0.1)"
   ]
  },
  {
   "cell_type": "code",
   "execution_count": 24,
   "metadata": {},
   "outputs": [
    {
     "name": "stdout",
     "output_type": "stream",
     "text": [
      "71/71 [==============================] - 0s 167us/step\n",
      "Test accuracy: 0.8309859154929577\n"
     ]
    }
   ],
   "source": [
    "score = model.evaluate(x_test, y_test,\n",
    "                       batch_size=batch_size, verbose=1)\n",
    "print('Test accuracy:', score[1])"
   ]
  },
  {
   "cell_type": "code",
   "execution_count": 25,
   "metadata": {},
   "outputs": [
    {
     "name": "stderr",
     "output_type": "stream",
     "text": [
      "C:\\Users\\ifa\\Anaconda3\\envs\\python36\\lib\\site-packages\\keras\\engine\\sequential.py:110: UserWarning: `Sequential.model` is deprecated. `Sequential` is a subclass of `Model`, you can just use your `Sequential` instance directly.\n",
      "  warnings.warn('`Sequential.model` is deprecated. '\n"
     ]
    }
   ],
   "source": [
    "import pickle\n",
    "from keras.preprocessing.text import Tokenizer\n",
    "\n",
    "# creates a HDF5 file 'my_model.h5'\n",
    "model.model.save('wsd_model21Feb.h5')\n",
    " \n",
    "# Save Tokenizer i.e. Vocabulary\n",
    "with open('tokenize.pickle', 'wb') as handle:\n",
    "    pickle.dump(tokenize, handle, protocol=pickle.HIGHEST_PROTOCOL)"
   ]
  },
  {
   "cell_type": "code",
   "execution_count": 26,
   "metadata": {},
   "outputs": [
    {
     "data": {
      "text/plain": [
       "array(['kaki', 'manisan', 'manusia', 'periksa', 'tangan', 'tumbuhan'],\n",
       "      dtype=object)"
      ]
     },
     "execution_count": 26,
     "metadata": {},
     "output_type": "execute_result"
    }
   ],
   "source": [
    "encoder.classes_ #LabelBinarizer"
   ]
  },
  {
   "cell_type": "code",
   "execution_count": 28,
   "metadata": {},
   "outputs": [
    {
     "name": "stdout",
     "output_type": "stream",
     "text": [
      "Sentence -> Ramai manusia layak disepak tanpa belas kasihan, tapi tu la nasib perempuan\n",
      " Predicted label: kaki \n",
      "\n",
      "Sentence -> Dah banyak kali disepak tapi masih tiada keberanian untuk bercerai?\n",
      " Predicted label: kaki \n",
      "\n",
      "Sentence -> Orang tua tu x minta duit kita x minta harta kita , mereka hanya perlukan kasih sayang dari kita bukan disepak dipukul. Fikir!\n",
      " Predicted label: kaki \n",
      "\n",
      "Sentence -> Pihak polis bakal mendapatkan perintah tahanan reman bagi membantu siasatan kes memukul seorang anggota polis trafik dan menyepak dua orang awam.\n",
      " Predicted label: kaki \n",
      "\n",
      "Sentence -> Datuk Farid Kamil ditahan ketika berada di kaunter Polis Trafik Kota Damansara 1.20 petang tadi kerana menampar anggota polis & menyepak orang awam.\n",
      " Predicted label: kaki \n",
      "\n",
      "Sentence -> #AhedTamimi 16thn ditangkap krn menampar & menyepak serdadu penjajah Zionis Israel yg hendak naik ke rumahnya spy bisa tembaki anak2 & remaja kampung yg lempari serdadu dg batu. Predicted label: kaki \n",
      "\n"
     ]
    }
   ],
   "source": [
    "labels = encoder.classes_\n",
    "\n",
    "with open(\"wsd_test.txt\", \"r\") as ins:\n",
    "    x_data = []\n",
    "    for line in ins:\n",
    "        x_data.append(line)\n",
    "\n",
    "x_data_series = pd.Series(x_data)\n",
    "x_tokenized = tokenize.texts_to_matrix(x_data_series, mode='tfidf')\n",
    "\n",
    "i=0\n",
    "for x_t in x_tokenized:\n",
    "    prediction = model.predict(np.array([x_t]))\n",
    "    predicted_label = labels[np.argmax(prediction[0])]\n",
    "    print(\"Sentence ->\", x_data_series[i], \"Predicted label: \" + predicted_label, \"\\n\")\n",
    "    i += 1"
   ]
  },
  {
   "cell_type": "code",
   "execution_count": null,
   "metadata": {},
   "outputs": [],
   "source": []
  }
 ],
 "metadata": {
  "kernelspec": {
   "display_name": "Python 3",
   "language": "python",
   "name": "python3"
  },
  "language_info": {
   "codemirror_mode": {
    "name": "ipython",
    "version": 3
   },
   "file_extension": ".py",
   "mimetype": "text/x-python",
   "name": "python",
   "nbconvert_exporter": "python",
   "pygments_lexer": "ipython3",
   "version": "3.6.8"
  }
 },
 "nbformat": 4,
 "nbformat_minor": 2
}
