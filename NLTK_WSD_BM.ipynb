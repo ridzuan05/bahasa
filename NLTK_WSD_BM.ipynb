{
 "cells": [
  {
   "cell_type": "code",
   "execution_count": 1,
   "metadata": {},
   "outputs": [],
   "source": [
    "import nltk"
   ]
  },
  {
   "cell_type": "code",
   "execution_count": 2,
   "metadata": {},
   "outputs": [],
   "source": [
    "from nltk.corpus import wordnet"
   ]
  },
  {
   "cell_type": "code",
   "execution_count": 3,
   "metadata": {},
   "outputs": [],
   "source": [
    "from nltk.corpus import wordnet as wn"
   ]
  },
  {
   "cell_type": "code",
   "execution_count": 10,
   "metadata": {},
   "outputs": [
    {
     "name": "stdout",
     "output_type": "stream",
     "text": [
      "showing info https://raw.githubusercontent.com/nltk/nltk_data/gh-pages/index.xml\n"
     ]
    },
    {
     "data": {
      "text/plain": [
       "True"
      ]
     },
     "execution_count": 10,
     "metadata": {},
     "output_type": "execute_result"
    }
   ],
   "source": [
    "nltk.download()"
   ]
  },
  {
   "cell_type": "code",
   "execution_count": 7,
   "metadata": {},
   "outputs": [],
   "source": [
    "from nltk.wsd import lesk"
   ]
  },
  {
   "cell_type": "code",
   "execution_count": 8,
   "metadata": {},
   "outputs": [],
   "source": [
    "sent = ['I', 'went', 'to', 'the', 'bank', 'to', 'deposit', 'money', '.']"
   ]
  },
  {
   "cell_type": "code",
   "execution_count": 11,
   "metadata": {},
   "outputs": [
    {
     "name": "stdout",
     "output_type": "stream",
     "text": [
      "Synset('savings_bank.n.02')\n"
     ]
    }
   ],
   "source": [
    "print(lesk(sent, 'bank', 'n'))"
   ]
  },
  {
   "cell_type": "code",
   "execution_count": 12,
   "metadata": {},
   "outputs": [],
   "source": [
    "lesk('John loves Mary'.split(), 'loves', synsets=[])"
   ]
  },
  {
   "cell_type": "code",
   "execution_count": 13,
   "metadata": {},
   "outputs": [
    {
     "name": "stdout",
     "output_type": "stream",
     "text": [
      "None\n"
     ]
    }
   ],
   "source": [
    "print(lesk('John loves Mary'.split(), 'loves', synsets=[]))"
   ]
  },
  {
   "cell_type": "code",
   "execution_count": 14,
   "metadata": {},
   "outputs": [
    {
     "name": "stdout",
     "output_type": "stream",
     "text": [
      "[nltk_data] Downloading package omw to\n",
      "[nltk_data]     C:\\Users\\Home\\AppData\\Roaming\\nltk_data...\n",
      "[nltk_data]   Unzipping corpora\\omw.zip.\n"
     ]
    },
    {
     "data": {
      "text/plain": [
       "True"
      ]
     },
     "execution_count": 14,
     "metadata": {},
     "output_type": "execute_result"
    }
   ],
   "source": [
    "nltk.download('omw')"
   ]
  },
  {
   "cell_type": "code",
   "execution_count": 18,
   "metadata": {},
   "outputs": [],
   "source": [
    "kata = wn.lemmas(\"madu\", lang=\"zsm\")"
   ]
  },
  {
   "cell_type": "code",
   "execution_count": 19,
   "metadata": {},
   "outputs": [
    {
     "data": {
      "text/plain": [
       "[Lemma('honeybee.n.01.madu'),\n",
       " Lemma('ambrosia.n.04.madu'),\n",
       " Lemma('honey.n.01.madu')]"
      ]
     },
     "execution_count": 19,
     "metadata": {},
     "output_type": "execute_result"
    }
   ],
   "source": [
    "kata"
   ]
  },
  {
   "cell_type": "code",
   "execution_count": 20,
   "metadata": {},
   "outputs": [],
   "source": [
    "syn = wordnet.synsets('cooking')"
   ]
  },
  {
   "cell_type": "code",
   "execution_count": 21,
   "metadata": {},
   "outputs": [
    {
     "data": {
      "text/plain": [
       "[Synset('cooking.n.01'),\n",
       " Synset('cook.v.01'),\n",
       " Synset('cook.v.02'),\n",
       " Synset('cook.v.03'),\n",
       " Synset('fudge.v.01'),\n",
       " Synset('cook.v.05')]"
      ]
     },
     "execution_count": 21,
     "metadata": {},
     "output_type": "execute_result"
    }
   ],
   "source": [
    "syn"
   ]
  },
  {
   "cell_type": "code",
   "execution_count": 24,
   "metadata": {},
   "outputs": [
    {
     "name": "stdout",
     "output_type": "stream",
     "text": [
      "[Synset('return.n.02'), Synset('back.r.04'), Synset('back.r.01'), Synset('home.r.01'), Synset('remodel.v.01'), Synset('go.v.09'), Synset('revert.v.01'), Synset('let.v.05'), Synset('hark_back.v.01'), Synset('remake.v.01'), Synset('go.v.03'), Synset('start.v.09'), Synset('return.v.01'), Synset('leave.v.01'), Synset('scram.v.01')]\n"
     ]
    }
   ],
   "source": [
    "print(wn.synsets(\"balik\", lang=\"zsm\"))"
   ]
  },
  {
   "cell_type": "code",
   "execution_count": 25,
   "metadata": {},
   "outputs": [
    {
     "name": "stdout",
     "output_type": "stream",
     "text": [
      "[Synset('address.v.04'), Synset('address.n.06'), Synset('signal.n.01'), Synset('address.n.05'), Synset('harbinger.n.01'), Synset('hint.n.02'), Synset('augury.n.01'), Synset('omen.n.01'), Synset('foreboding.n.01'), Synset('presage.n.01'), Synset('address.n.02'), Synset('signal.n.02')]\n"
     ]
    }
   ],
   "source": [
    "print(wn.synsets(\"alamat\", lang=\"zsm\"))"
   ]
  },
  {
   "cell_type": "code",
   "execution_count": 26,
   "metadata": {},
   "outputs": [
    {
     "name": "stdout",
     "output_type": "stream",
     "text": [
      "[Synset('get_up.v.02'), Synset('wake_up.v.02'), Synset('resurrect.v.01'), Synset('resurrect.v.03'), Synset('rise.v.02'), Synset('rise.v.11'), Synset('arise.v.04'), Synset('heighten.v.01'), Synset('wax.v.02'), Synset('rise.v.12'), Synset('rise.v.01'), Synset('ascend.v.08'), Synset('rise.v.16'), Synset('rise.v.15'), Synset('arise.v.03'), Synset('surface.v.01'), Synset('rout_out.v.02'), Synset('rebel.v.01'), Synset('originate.v.01'), Synset('arise.v.02'), Synset('rise.v.04')]\n"
     ]
    }
   ],
   "source": [
    "print(wn.synsets(\"bangkit\", lang=\"zsm\"))"
   ]
  },
  {
   "cell_type": "code",
   "execution_count": 27,
   "metadata": {},
   "outputs": [],
   "source": [
    "from googletrans import Translator"
   ]
  },
  {
   "cell_type": "code",
   "execution_count": 28,
   "metadata": {},
   "outputs": [],
   "source": [
    "translator = Translator()"
   ]
  },
  {
   "cell_type": "code",
   "execution_count": 29,
   "metadata": {},
   "outputs": [
    {
     "data": {
      "text/plain": [
       "<googletrans.models.Translated at 0x1a65a47fbe0>"
      ]
     },
     "execution_count": 29,
     "metadata": {},
     "output_type": "execute_result"
    }
   ],
   "source": [
    "translator.translate('Akibat terlalu lama hidup dalam kemiskinan,anaknya bangkit untuk membela keluarga.')"
   ]
  },
  {
   "cell_type": "code",
   "execution_count": 30,
   "metadata": {},
   "outputs": [
    {
     "data": {
      "text/plain": [
       "<googletrans.models.Detected at 0x1a6587eea90>"
      ]
     },
     "execution_count": 30,
     "metadata": {},
     "output_type": "execute_result"
    }
   ],
   "source": [
    "translator.detect('Akibat terlalu lama hidup dalam kemiskinan,anaknya bangkit untuk membela keluarga.')"
   ]
  },
  {
   "cell_type": "code",
   "execution_count": 31,
   "metadata": {},
   "outputs": [],
   "source": [
    "translator = Translator(service_urls=[\n",
    "      'translate.google.com',\n",
    "      'translate.google.com.my',\n",
    "    ])"
   ]
  },
  {
   "cell_type": "code",
   "execution_count": 34,
   "metadata": {},
   "outputs": [],
   "source": [
    "langBM.text = translator.detect('Akibat terlalu lama hidup dalam kemiskinan,anaknya bangkit untuk membela keluarga.')"
   ]
  },
  {
   "cell_type": "code",
   "execution_count": 36,
   "metadata": {},
   "outputs": [
    {
     "name": "stdout",
     "output_type": "stream",
     "text": [
      "Detected(lang=msid, confidence=0.61179835)\n"
     ]
    }
   ],
   "source": [
    "print(langBM.text)"
   ]
  },
  {
   "cell_type": "code",
   "execution_count": 37,
   "metadata": {},
   "outputs": [
    {
     "name": "stdout",
     "output_type": "stream",
     "text": [
      "Translated(src=ms, dest=en, text=Due to the long life of poverty, his son rose to defend his family., pronunciation=Due to the long life of poverty, his son rose to defend his family., extra_data=\"{'translat...\")\n"
     ]
    }
   ],
   "source": [
    "print(translator.translate('Akibat terlalu lama hidup dalam kemiskinan,anaknya bangkit untuk membela keluarga.'))"
   ]
  },
  {
   "cell_type": "code",
   "execution_count": 38,
   "metadata": {},
   "outputs": [
    {
     "name": "stdout",
     "output_type": "stream",
     "text": [
      "Due to the long life of poverty, his son rose to defend his family.\n"
     ]
    }
   ],
   "source": [
    "sent = translator.translate('Akibat terlalu lama hidup dalam kemiskinan,anaknya bangkit untuk membela keluarga.')\n",
    "print(sent.text)"
   ]
  },
  {
   "cell_type": "code",
   "execution_count": null,
   "metadata": {},
   "outputs": [],
   "source": []
  }
 ],
 "metadata": {
  "kernelspec": {
   "display_name": "Python 3",
   "language": "python",
   "name": "python3"
  },
  "language_info": {
   "codemirror_mode": {
    "name": "ipython",
    "version": 3
   },
   "file_extension": ".py",
   "mimetype": "text/x-python",
   "name": "python",
   "nbconvert_exporter": "python",
   "pygments_lexer": "ipython3",
   "version": "3.6.5"
  }
 },
 "nbformat": 4,
 "nbformat_minor": 2
}
