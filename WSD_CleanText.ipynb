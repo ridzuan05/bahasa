{
 "cells": [
  {
   "cell_type": "code",
   "execution_count": 1,
   "metadata": {},
   "outputs": [],
   "source": [
    "import pandas as pd\n",
    "import numpy as np"
   ]
  },
  {
   "cell_type": "code",
   "execution_count": 2,
   "metadata": {},
   "outputs": [],
   "source": [
    "from pandas import ExcelWriter\n",
    "from pandas import ExcelFile"
   ]
  },
  {
   "cell_type": "code",
   "execution_count": 3,
   "metadata": {},
   "outputs": [
    {
     "name": "stdout",
     "output_type": "stream",
     "text": [
      "Column headings:\n",
      "Index(['Title', 'Text'], dtype='object')\n"
     ]
    }
   ],
   "source": [
    "df = pd.read_excel('news.xlsx', sheet_name='sheet1')\n",
    " \n",
    "print(\"Column headings:\")\n",
    "print(df.columns)"
   ]
  },
  {
   "cell_type": "code",
   "execution_count": 4,
   "metadata": {},
   "outputs": [],
   "source": [
    "df = df[pd.notnull(df['Text'])]"
   ]
  },
  {
   "cell_type": "code",
   "execution_count": 5,
   "metadata": {},
   "outputs": [
    {
     "name": "stdout",
     "output_type": "stream",
     "text": [
      "0        PENYERANG Paris Saint-Germain (PSG), Neymar, b...\n",
      "1        LANGKAWI : Sepasang suami isteri yang juga sus...\n",
      "2        KUALA TERENGGANU : Presiden Pas, Datuk Seri Ab...\n",
      "3        HULU LANGAT : Tindakan Pas yang masih membantu...\n",
      "4        SEMENYIH : Presiden Parti Pribumi Bersatu Mala...\n",
      "5        SEMENYIH \": Imej Bossku yang dibawa bekas Perd...\n",
      "6        KOTA KINABALU \": Selepas menanti hampir setahu...\n",
      "7        KUALA LUMPUR : Tompokan minyak yang ditemui di...\n",
      "8        IPOH : Keputusan Pilihan Raya Kecil (PRK) Dewa...\n",
      "9        KUALA LUMPUR : Kecewa dengan kenyataan berbaur...\n",
      "10       KUALA LUMPUR : Kementerian Dalam Negeri (KDN) ...\n",
      "11       GOPENG : Ahli Parlimen Gopeng, Dr Lee Boon Chy...\n",
      "12       KUALA LUMPUR : Pertubuhan Kesihatan Sedunia (W...\n",
      "13       KUALA LUMPUR : Kementerian Kesihatan Malaysia ...\n",
      "14       PETALING JAYA : Kementerian Kesihatan akan men...\n",
      "15       KUALA LUMPUR : Pelajar dan pengamal perubatan ...\n",
      "16       PETALING JAYA : Kerajaan komited untuk menyedi...\n",
      "17       KANGAR : Lebih tiga jam menunggu tetapi keliba...\n",
      "18       TANAH RATA : Calon Pakatan Harapan (PH) bagi P...\n",
      "19       TANAH RATA : Suruhanjaya Pilihan Raya (SPR) me...\n",
      "20       JAKARTA : Seorang remaja maut selepas terkena ...\n",
      "21       KUALA LUMPUR : AirAsia pada Isnin membuat kepu...\n",
      "22       BUKIT MERTAJAM : Dua pelajar Pusat Tahfiz Daru...\n",
      "23       IPOH : Dua pelajar lelaki sekolah menengah dit...\n",
      "24       KUALA LUMPUR : Malaysia akan mengambil tindaka...\n",
      "25       SHAH ALAM : Langkah pemulihan serta penstruktu...\n",
      "26       KUALA LUMPUR : Ringgit dijangka naik secara be...\n",
      "27       KUALA LUMPUR : Menteri di Jabatan Perdana Ment...\n",
      "28       KUALA LUMPUR : Jabatan Perdana Menteri (JPM) m...\n",
      "29       GOMBAK : Timbalan Menteri Kesihatan, Datuk Ser...\n",
      "                               ...                        \n",
      "81988    PEMBUBARAN Parlimen pada hari ulang tahun keem...\n",
      "81989    KUALA LUMPUR : Lega! Itulah yang saya rasa seb...\n",
      "81990    SEMENYIH : Rancangan kerajaan untuk mengambil ...\n",
      "81991    SEMENYIH : Tok Batin (Ketua Kampung Orang Asli...\n",
      "81992    SEMENYIH : Menteri Pengangkutan Anthony Loke m...\n",
      "81993    SEMENYIH : Pakatan Harapan (PH) tidak pernah m...\n",
      "81994    SEMENYIH : Seramai 858 daripada 951 anggota Po...\n",
      "81995    SEMENYIH : Seandainya keadaan kesihatannya men...\n",
      "81996    HULU LANGAT : Presiden PKR Datuk Seri Anwar Ib...\n",
      "81997    HULU LANGAT : Dua pensyarah terkemuka negara, ...\n",
      "81998    HULU LANGAT : Kerjasama politik antara Pas dan...\n",
      "81999    SEMENYIH : Barisan Nasional (BN) berjaya meram...\n",
      "82000    PUTRAJAYA : Perdana Menteri Tun Dr Mahathir Mo...\n",
      "82001    HULU LANGAT : Barisan Nasional percaya kemenan...\n",
      "82002    KUCHING : Peruntukan sebanyak RM29.2 bilion ke...\n",
      "82003    PUTRAJAYA : Bekas Ketua Pembangkang, Datuk Ser...\n",
      "82004    KUALA LUMPUR : Aliran trafik di beberapa lebuh...\n",
      "82005    SEREMBAN : Jika dilihat pada perwatakannya yan...\n",
      "82006    SUBANG JAYA : Minuman isotonik pertama di Mala...\n",
      "82007    KUALA LUMPUR : Pengalaman unik mendapat akses ...\n",
      "82008    KUALA LUMPUR : Menteri di Jabatan Perdana Ment...\n",
      "82009    SEMENYIH : Calon Bebas bagi Pilihan Raya Kecil...\n",
      "82010    MARANG : Pas menegaskan akan memberi sokongan ...\n",
      "82011    KUALA TERENGGANU : Jangan salahkan PAS jika Pa...\n",
      "82012    KUALA LUMPUR : Kerajaan perlu mengurangkan dah...\n",
      "82013    SEMENYIH : Kampung Tanjung memerlukan lokasi p...\n",
      "82014    PETALING JAYA : Presiden PKR, Datuk Seri Anwar...\n",
      "82015    SEMENYIH : Kerajaan Pakatan Harapan (PH) berad...\n",
      "82016    KUCHING : Seperti diramal, akhinya Parti Pribu...\n",
      "82017    Frank Ribery secara rasminya terkeluar daripad...\n",
      "Name: Text, Length: 82018, dtype: object\n"
     ]
    }
   ],
   "source": [
    "print(df['Text'])"
   ]
  },
  {
   "cell_type": "code",
   "execution_count": 6,
   "metadata": {},
   "outputs": [
    {
     "name": "stdout",
     "output_type": "stream",
     "text": [
      "20307239\n"
     ]
    }
   ],
   "source": [
    "print(df['Text'].apply(lambda x: len(x.split(' '))).sum())"
   ]
  },
  {
   "cell_type": "code",
   "execution_count": 7,
   "metadata": {},
   "outputs": [
    {
     "name": "stdout",
     "output_type": "stream",
     "text": [
      "KUALA LUMPUR : Kementerian Dalam Negeri (KDN) mendapati pendakwah dan penceramah bebas dari India, Dr Zakir Naik tidak mempromosikan sebarang keganasan dalam setiap program disertainya. Menterinya, Datuk Seri Ahmad Zahid Hamidi berkata kementeriannya telah meneliti semua ucapan yang dibuat Zakir sama ada di Malaysia mahupun di luar negara. Bagaimanapun, beliau yang juga Timbalan Perdana Menteri berkata KDN tidak teragak-agak menarik semula status Pemastautin Tetap (PR) yang diberikan kepada pendakwah itu sekiranya Zakir melakukan sesuatu yang melanggar undang-undang negara ini. \"KDN telah meneliti semua video dan transkrip teks dari ucapan beliau (Zakir), tidak ada satu pun (ucapan) menggalakkan kegananasan, tidak ada. \"Bagaimanapun KDN tetap memantau semua aktiviti dan kandungan ceramah Zakir, di mana beliau berada selain tidak teragak-agak mengambil tindakan termasuk membatalkan status PR jika didapati beliau terbabit dalam aktiviti keganasan atau melanggar undang-undang. \"Interpretasi itu (keganasan) adalah daripada tokoh tertentu di luar,\" katanya di Dewan Rakyat ketika menggulung usul Rang Undang-undang Perbekalan 2018 (Bajet 2018) peringkat dasar KDN. Beliau berkata demikian sebagai menjawab soalan tambahan M Kulasegaran (DAP-Ipoh Barat) mengenai keistimewaan diberikan kepada Zakir sehingga mendapat status PR oleh Kerajaan Malaysia. Turut mempersoal kewajaran dan keistimewaan Zakir diberikan status PR ialah Lee Boon Chye (PKR-Gopeng), V. Sivakumar (DAP-Batu Gajah) dan Gobind Singh Deo (DAP-Puchong). Berhubung dakwaan pembabitan Zakir dalam serangan pengganas di Dhaka, India yang menyebabkan dia meninggalkan negara itu pada 2016, Zahid berkata ia juga merupakan suatu tanggapan semata-mata. \"Peristiwa di Dhaka, itu adalah persepsi dari negara berkenaan. Apa yang berlaku di sana bukan disebabkan motivasi atau provokasi oleh Dr Zakir Naik, (tetapi) ada faktor-faktor lain. \"Sehingga kini tiada permohonan rasmi dikemukakan kerajaan India kepada Malaysia untuk mengekstradisi Zakir,\" jelasnya. Jelasnya, KDN meluluskan permohonan PR terhadap Zakir sebelum pasport beliau ditarik semula oleh kerajaan India. Malah, KDN juga tidak menerima sebarang notis mahupun waran tangkap daripada Polis Antarabangsa (Interpol) untuk menyiasat atau menangkap Zakir.\n"
     ]
    }
   ],
   "source": [
    "def print_plot(index):\n",
    "    example = df[df.index == index][['Text']].values[0]\n",
    "    if len(example) > 0:\n",
    "        print(example[0])\n",
    "\n",
    "print_plot(10)"
   ]
  },
  {
   "cell_type": "code",
   "execution_count": 8,
   "metadata": {},
   "outputs": [],
   "source": [
    "import nltk\n",
    "from nltk.corpus import stopwords\n",
    "import re\n",
    "from bs4 import BeautifulSoup"
   ]
  },
  {
   "cell_type": "code",
   "execution_count": 9,
   "metadata": {},
   "outputs": [],
   "source": [
    "REPLACE_BY_SPACE_RE = re.compile('[/(){}\\[\\]\\|@,;]')\n",
    "BAD_SYMBOLS_RE = re.compile('[^0-9a-z #+_]')\n",
    "STOPWORDS = set(stopwords.words('english'))\n",
    "\n",
    "def clean_text(text):\n",
    "    \"\"\"\n",
    "        text: a string\n",
    "        \n",
    "        return: modified initial string\n",
    "    \"\"\"\n",
    "    text = BeautifulSoup(text, \"lxml\").text # HTML decoding\n",
    "    text = text.lower() # lowercase text\n",
    "    text = REPLACE_BY_SPACE_RE.sub(' ', text) # replace REPLACE_BY_SPACE_RE symbols by space in text\n",
    "    text = BAD_SYMBOLS_RE.sub(' ', text) # delete symbols which are in BAD_SYMBOLS_RE from text\n",
    "    text = ' '.join(word for word in text.split() if word not in STOPWORDS) # delete stopwords from text\n",
    "    return text\n",
    "    \n",
    "df['Text'] = df['Text'].apply(clean_text)"
   ]
  },
  {
   "cell_type": "code",
   "execution_count": 10,
   "metadata": {},
   "outputs": [
    {
     "name": "stdout",
     "output_type": "stream",
     "text": [
      "kuala lumpur kementerian dalam negeri kdn mendapati pendakwah dan penceramah bebas dari india dr zakir naik tidak mempromosikan sebarang keganasan dalam setiap program disertainya menterinya datuk seri ahmad zahid hamidi berkata kementeriannya telah meneliti semua ucapan yang dibuat zakir sama ada di malaysia mahupun di luar negara bagaimanapun beliau yang juga timbalan perdana menteri berkata kdn tidak teragak agak menarik semula status pemastautin tetap pr yang diberikan kepada pendakwah itu sekiranya zakir melakukan sesuatu yang melanggar undang undang negara ini kdn telah meneliti semua video dan transkrip teks dari ucapan beliau zakir tidak ada satu pun ucapan menggalakkan kegananasan tidak ada bagaimanapun kdn tetap memantau semua aktiviti dan kandungan ceramah zakir di mana beliau berada selain tidak teragak agak mengambil tindakan termasuk membatalkan status pr jika didapati beliau terbabit dalam aktiviti keganasan atau melanggar undang undang interpretasi itu keganasan adalah daripada tokoh tertentu di luar katanya di dewan rakyat ketika menggulung usul rang undang undang perbekalan 2018 bajet 2018 peringkat dasar kdn beliau berkata demikian sebagai menjawab soalan tambahan kulasegaran dap ipoh barat mengenai keistimewaan diberikan kepada zakir sehingga mendapat status pr oleh kerajaan malaysia turut mempersoal kewajaran dan keistimewaan zakir diberikan status pr ialah lee boon chye pkr gopeng v sivakumar dap batu gajah dan gobind singh deo dap puchong berhubung dakwaan pembabitan zakir dalam serangan pengganas di dhaka india yang menyebabkan dia meninggalkan negara itu pada 2016 zahid berkata ia juga merupakan suatu tanggapan semata mata peristiwa di dhaka itu adalah persepsi dari negara berkenaan apa yang berlaku di sana bukan disebabkan motivasi atau provokasi oleh dr zakir naik tetapi ada faktor faktor lain sehingga kini tiada permohonan rasmi dikemukakan kerajaan india kepada malaysia untuk mengekstradisi zakir jelasnya jelasnya kdn meluluskan permohonan pr terhadap zakir sebelum pasport beliau ditarik semula oleh kerajaan india malah kdn juga tidak menerima sebarang notis mahupun waran tangkap daripada polis antarabangsa interpol untuk menyiasat atau menangkap zakir\n"
     ]
    }
   ],
   "source": [
    "print_plot(10)"
   ]
  },
  {
   "cell_type": "code",
   "execution_count": 11,
   "metadata": {},
   "outputs": [],
   "source": [
    "TextCol = df['Text']"
   ]
  },
  {
   "cell_type": "code",
   "execution_count": null,
   "metadata": {},
   "outputs": [],
   "source": [
    "# find which entries contain the word 'appointment'\n",
    "# df['text'].str.contains('appointment')\n",
    "\n",
    "FindText = df.apply(lambda row: row.astype(str).str.contains('madu').any(), axis=1)"
   ]
  },
  {
   "cell_type": "code",
   "execution_count": 16,
   "metadata": {},
   "outputs": [],
   "source": [
    "#create new list with WSD keywords\n",
    "WSD_List = ['madu', 'bermadu']\n",
    "\n",
    "for item in WSD_List:\n",
    "    df['Text'] = df.astype(str).sum(axis=1).str.contains(item)"
   ]
  },
  {
   "cell_type": "code",
   "execution_count": 18,
   "metadata": {},
   "outputs": [
    {
     "data": {
      "text/plain": [
       "0        penyerang paris saint germain psg neymar beran...\n",
       "1        langkawi sepasang suami isteri yang juga suspe...\n",
       "2        kuala terengganu presiden pas datuk seri abdul...\n",
       "3        hulu langat tindakan pas yang masih membantu g...\n",
       "4        semenyih presiden parti pribumi bersatu malays...\n",
       "5        semenyih imej bossku yang dibawa bekas perdana...\n",
       "6        kota kinabalu selepas menanti hampir setahun a...\n",
       "7        kuala lumpur tompokan minyak yang ditemui di l...\n",
       "8        ipoh keputusan pilihan raya kecil prk dewan un...\n",
       "9        kuala lumpur kecewa dengan kenyataan berbaur p...\n",
       "10       kuala lumpur kementerian dalam negeri kdn mend...\n",
       "11       gopeng ahli parlimen gopeng dr lee boon chye y...\n",
       "12       kuala lumpur pertubuhan kesihatan sedunia meng...\n",
       "13       kuala lumpur kementerian kesihatan malaysia kk...\n",
       "14       petaling jaya kementerian kesihatan akan menel...\n",
       "15       kuala lumpur pelajar dan pengamal perubatan di...\n",
       "16       petaling jaya kerajaan komited untuk menyediak...\n",
       "17       kangar lebih tiga jam menunggu tetapi kelibat ...\n",
       "18       tanah rata calon pakatan harapan ph bagi pilih...\n",
       "19       tanah rata suruhanjaya pilihan raya spr menyas...\n",
       "20       jakarta seorang remaja maut selepas terkena re...\n",
       "21       kuala lumpur airasia pada isnin membuat keputu...\n",
       "22       bukit mertajam dua pelajar pusat tahfiz darul ...\n",
       "23       ipoh dua pelajar lelaki sekolah menengah ditem...\n",
       "24       kuala lumpur malaysia akan mengambil tindakan ...\n",
       "25       shah alam langkah pemulihan serta penstruktura...\n",
       "26       kuala lumpur ringgit dijangka naik secara bera...\n",
       "27       kuala lumpur menteri di jabatan perdana menter...\n",
       "28       kuala lumpur jabatan perdana menteri jpm meneg...\n",
       "29       gombak timbalan menteri kesihatan datuk seri d...\n",
       "                               ...                        \n",
       "81988    pembubaran parlimen pada hari ulang tahun keem...\n",
       "81989    kuala lumpur lega itulah yang saya rasa sebaik...\n",
       "81990    semenyih rancangan kerajaan untuk mengambil al...\n",
       "81991    semenyih tok batin ketua kampung orang asli di...\n",
       "81992    semenyih menteri pengangkutan anthony loke men...\n",
       "81993    semenyih pakatan harapan ph tidak pernah memak...\n",
       "81994    semenyih seramai 858 daripada 951 anggota poli...\n",
       "81995    semenyih seandainya keadaan kesihatannya mengi...\n",
       "81996    hulu langat presiden pkr datuk seri anwar ibra...\n",
       "81997    hulu langat dua pensyarah terkemuka negara dr ...\n",
       "81998    hulu langat kerjasama politik antara pas dan u...\n",
       "81999    semenyih barisan nasional bn berjaya merampas ...\n",
       "82000    putrajaya perdana menteri tun dr mahathir moha...\n",
       "82001    hulu langat barisan nasional percaya kemenanga...\n",
       "82002    kuching peruntukan sebanyak rm29 2 bilion kepa...\n",
       "82003    putrajaya bekas ketua pembangkang datuk seri a...\n",
       "82004    kuala lumpur aliran trafik di beberapa lebuh r...\n",
       "82005    seremban jika dilihat pada perwatakannya yang ...\n",
       "82006    subang jaya minuman isotonik pertama di malays...\n",
       "82007    kuala lumpur pengalaman unik mendapat akses ga...\n",
       "82008    kuala lumpur menteri di jabatan perdana menter...\n",
       "82009    semenyih calon bebas bagi pilihan raya kecil p...\n",
       "82010    marang pas menegaskan akan memberi sokongan ke...\n",
       "82011    kuala terengganu jangan salahkan pas jika part...\n",
       "82012    kuala lumpur kerajaan perlu mengurangkan dahul...\n",
       "82013    semenyih kampung tanjung memerlukan lokasi pen...\n",
       "82014    petaling jaya presiden pkr datuk seri anwar ib...\n",
       "82015    semenyih kerajaan pakatan harapan ph berada da...\n",
       "82016    kuching seperti diramal akhinya parti pribumi ...\n",
       "82017    frank ribery secara rasminya terkeluar daripad...\n",
       "Name: Text, Length: 82018, dtype: object"
      ]
     },
     "execution_count": 18,
     "metadata": {},
     "output_type": "execute_result"
    }
   ],
   "source": [
    "TextCol"
   ]
  },
  {
   "cell_type": "code",
   "execution_count": null,
   "metadata": {},
   "outputs": [],
   "source": []
  }
 ],
 "metadata": {
  "kernelspec": {
   "display_name": "Python 3",
   "language": "python",
   "name": "python3"
  },
  "language_info": {
   "codemirror_mode": {
    "name": "ipython",
    "version": 3
   },
   "file_extension": ".py",
   "mimetype": "text/x-python",
   "name": "python",
   "nbconvert_exporter": "python",
   "pygments_lexer": "ipython3",
   "version": "3.6.5"
  }
 },
 "nbformat": 4,
 "nbformat_minor": 2
}
