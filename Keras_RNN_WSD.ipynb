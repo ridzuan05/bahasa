{
 "cells": [
  {
   "cell_type": "code",
   "execution_count": 1,
   "metadata": {},
   "outputs": [
    {
     "name": "stderr",
     "output_type": "stream",
     "text": [
      "Using TensorFlow backend.\n"
     ]
    }
   ],
   "source": [
    "import numpy as np\n",
    "import pandas as pd\n",
    "import pickle\n",
    "from collections import defaultdict\n",
    "import re\n",
    "from bs4 import BeautifulSoup\n",
    "import sys\n",
    "import os\n",
    "#os.environ['KERAS_BACKEND']='theano'\n",
    "from keras.preprocessing.text import Tokenizer\n",
    "from keras.preprocessing.sequence import pad_sequences\n",
    "from keras.utils.np_utils import to_categorical\n",
    "from keras.layers import Embedding\n",
    "from keras.layers import Dense, Input, Flatten\n",
    "from keras.layers import Conv1D, MaxPooling1D, Embedding, Dropout, LSTM, GRU, Bidirectional\n",
    "from keras.models import Model\n",
    "from keras.callbacks import ModelCheckpoint\n",
    "import matplotlib.pyplot as plt\n",
    "plt.switch_backend('agg')\n",
    "from keras import backend as K\n",
    "from keras.engine.topology import Layer, InputSpec\n",
    "from keras import initializers\n",
    "%matplotlib inline"
   ]
  },
  {
   "cell_type": "code",
   "execution_count": 2,
   "metadata": {},
   "outputs": [],
   "source": [
    "def clean_str(string):\n",
    "    string = re.sub(r\"\\\\\", \"\", string)\n",
    "    string = re.sub(r\"\\'\", \"\", string)\n",
    "    string = re.sub(r\"\\\"\", \"\", string)\n",
    "    return string.strip().lower()"
   ]
  },
  {
   "cell_type": "code",
   "execution_count": 3,
   "metadata": {},
   "outputs": [],
   "source": [
    "MAX_SEQUENCE_LENGTH = 1000\n",
    "MAX_NB_WORDS = 20000\n",
    "EMBEDDING_DIM = 100\n",
    "VALIDATION_SPLIT = 0.2"
   ]
  },
  {
   "cell_type": "code",
   "execution_count": 4,
   "metadata": {},
   "outputs": [
    {
     "name": "stdout",
     "output_type": "stream",
     "text": [
      "Shape of dataset  (236, 2)\n",
      "Index(['SENTENCE', 'CATEGORY'], dtype='object')\n",
      "No. of unique classes 6\n",
      "No. of tokens 4729\n"
     ]
    }
   ],
   "source": [
    "# reading data\n",
    "df = pd.read_excel('wsd_data.xlsx')\n",
    "df = df.dropna()\n",
    "df = df.reset_index(drop=True)\n",
    "print('Shape of dataset ',df.shape)\n",
    "print(df.columns)\n",
    "print('No. of unique classes',len(set(df['CATEGORY'])))\n",
    "print('No. of tokens',df['SENTENCE'].apply(lambda x: len(x.split(' '))).sum())"
   ]
  },
  {
   "cell_type": "code",
   "execution_count": 5,
   "metadata": {},
   "outputs": [],
   "source": [
    "macronum=sorted(set(df['CATEGORY']))\n",
    "macro_to_id = dict((note, number) for number, note in enumerate(macronum))\n",
    "\n",
    "def fun(i):\n",
    "    return macro_to_id[i]\n",
    "\n",
    "df['class']=df['CATEGORY'].apply(fun)"
   ]
  },
  {
   "cell_type": "code",
   "execution_count": 6,
   "metadata": {},
   "outputs": [
    {
     "name": "stderr",
     "output_type": "stream",
     "text": [
      "C:\\Users\\Home\\Anaconda3\\lib\\site-packages\\bs4\\__init__.py:181: UserWarning: No parser was explicitly specified, so I'm using the best available HTML parser for this system (\"lxml\"). This usually isn't a problem, but if you run this code on another system, or in a different virtual environment, it may use a different parser and behave differently.\n",
      "\n",
      "The code that caused this warning is on line 193 of the file C:\\Users\\Home\\Anaconda3\\lib\\runpy.py. To get rid of this warning, change code that looks like this:\n",
      "\n",
      " BeautifulSoup(YOUR_MARKUP})\n",
      "\n",
      "to this:\n",
      "\n",
      " BeautifulSoup(YOUR_MARKUP, \"lxml\")\n",
      "\n",
      "  markup_type=markup_type))\n"
     ]
    }
   ],
   "source": [
    "texts = []\n",
    "labels = []\n",
    "\n",
    "for idx in range(df.SENTENCE.shape[0]):\n",
    "    text = BeautifulSoup(df.SENTENCE[idx])\n",
    "    texts.append(clean_str(str(text.get_text().encode())))\n",
    "\n",
    "for idx in df['class']:\n",
    "    labels.append(idx)"
   ]
  },
  {
   "cell_type": "code",
   "execution_count": 7,
   "metadata": {},
   "outputs": [
    {
     "name": "stdout",
     "output_type": "stream",
     "text": [
      "Number of Unique Tokens 2061\n"
     ]
    }
   ],
   "source": [
    "tokenizer = Tokenizer(num_words=MAX_NB_WORDS)\n",
    "tokenizer.fit_on_texts(texts)\n",
    "sequences = tokenizer.texts_to_sequences(texts)\n",
    "\n",
    "word_index = tokenizer.word_index\n",
    "\n",
    "print('Number of Unique Tokens',len(word_index))"
   ]
  },
  {
   "cell_type": "code",
   "execution_count": 8,
   "metadata": {},
   "outputs": [
    {
     "name": "stdout",
     "output_type": "stream",
     "text": [
      "Shape of Data Tensor: (236, 1000)\n",
      "Shape of Label Tensor: (236, 6)\n"
     ]
    }
   ],
   "source": [
    "data = pad_sequences(sequences, maxlen=MAX_SEQUENCE_LENGTH)\n",
    "\n",
    "labels = to_categorical(np.asarray(labels))\n",
    "print('Shape of Data Tensor:', data.shape)\n",
    "print('Shape of Label Tensor:', labels.shape)\n",
    "\n",
    "indices = np.arange(data.shape[0])\n",
    "np.random.shuffle(indices)\n",
    "data = data[indices]\n",
    "labels = labels[indices]\n",
    "nb_validation_samples = int(VALIDATION_SPLIT * data.shape[0])\n",
    "\n",
    "x_train = data[:-nb_validation_samples]\n",
    "y_train = labels[:-nb_validation_samples]\n",
    "x_val = data[-nb_validation_samples:]\n",
    "y_val = labels[-nb_validation_samples:]"
   ]
  },
  {
   "cell_type": "code",
   "execution_count": 11,
   "metadata": {},
   "outputs": [
    {
     "name": "stdout",
     "output_type": "stream",
     "text": [
      "Total 400000 word vectors in memory.\n"
     ]
    }
   ],
   "source": [
    "embeddings_index = {}\n",
    "f = open('glove.6B.100d.txt',encoding='utf8')\n",
    "for line in f:\n",
    "    values = line.split()\n",
    "    word = values[0]\n",
    "    coefs = np.asarray(values[1:], dtype='float32')\n",
    "    embeddings_index[word] = coefs\n",
    "f.close()\n",
    "\n",
    "print('Total %s word vectors in memory.' % len(embeddings_index))"
   ]
  },
  {
   "cell_type": "code",
   "execution_count": 12,
   "metadata": {},
   "outputs": [],
   "source": [
    "embedding_matrix = np.random.random((len(word_index) + 1, EMBEDDING_DIM))\n",
    "for word, i in word_index.items():\n",
    "    embedding_vector = embeddings_index.get(word)\n",
    "    if embedding_vector is not None:\n",
    "        # words not found in embedding index will be all-zeros.\n",
    "        embedding_matrix[i] = embedding_vector"
   ]
  },
  {
   "cell_type": "code",
   "execution_count": 13,
   "metadata": {},
   "outputs": [],
   "source": [
    "embedding_layer = Embedding(len(word_index) + 1,\n",
    "                            EMBEDDING_DIM,\n",
    "                            weights=[embedding_matrix],\n",
    "                            input_length=MAX_SEQUENCE_LENGTH,\n",
    "                            trainable=True)"
   ]
  },
  {
   "cell_type": "code",
   "execution_count": 14,
   "metadata": {},
   "outputs": [
    {
     "name": "stdout",
     "output_type": "stream",
     "text": [
      "Bidirectional LSTM\n",
      "_________________________________________________________________\n",
      "Layer (type)                 Output Shape              Param #   \n",
      "=================================================================\n",
      "input_1 (InputLayer)         (None, 1000)              0         \n",
      "_________________________________________________________________\n",
      "embedding_1 (Embedding)      (None, 1000, 100)         206200    \n",
      "_________________________________________________________________\n",
      "bidirectional_1 (Bidirection (None, 200)               160800    \n",
      "_________________________________________________________________\n",
      "dense_1 (Dense)              (None, 6)                 1206      \n",
      "=================================================================\n",
      "Total params: 368,206\n",
      "Trainable params: 368,206\n",
      "Non-trainable params: 0\n",
      "_________________________________________________________________\n"
     ]
    }
   ],
   "source": [
    "sequence_input = Input(shape=(MAX_SEQUENCE_LENGTH,), dtype='int32')\n",
    "embedded_sequences = embedding_layer(sequence_input)\n",
    "l_lstm = Bidirectional(LSTM(100))(embedded_sequences)\n",
    "preds = Dense(len(macronum), activation='softmax')(l_lstm)\n",
    "model = Model(sequence_input, preds)\n",
    "model.compile(loss='categorical_crossentropy',\n",
    "              optimizer='rmsprop',\n",
    "              metrics=['acc'])\n",
    "\n",
    "print(\"Bidirectional LSTM\")\n",
    "model.summary()"
   ]
  },
  {
   "cell_type": "code",
   "execution_count": 15,
   "metadata": {},
   "outputs": [
    {
     "name": "stdout",
     "output_type": "stream",
     "text": [
      "Train on 189 samples, validate on 47 samples\n",
      "Epoch 1/15\n",
      "189/189 [==============================] - 115s 610ms/step - loss: 1.6434 - acc: 0.2857 - val_loss: 1.8217 - val_acc: 0.2340\n",
      "\n",
      "Epoch 00001: val_acc improved from -inf to 0.23404, saving model to model_rnn.hdf5\n",
      "Epoch 2/15\n",
      "189/189 [==============================] - 122s 645ms/step - loss: 1.3795 - acc: 0.4497 - val_loss: 1.7245 - val_acc: 0.2340\n",
      "\n",
      "Epoch 00002: val_acc did not improve from 0.23404\n",
      "Epoch 3/15\n",
      "189/189 [==============================] - 124s 658ms/step - loss: 1.0224 - acc: 0.6349 - val_loss: 1.6524 - val_acc: 0.3191\n",
      "\n",
      "Epoch 00003: val_acc improved from 0.23404 to 0.31915, saving model to model_rnn.hdf5\n",
      "Epoch 4/15\n",
      "189/189 [==============================] - 126s 668ms/step - loss: 0.6916 - acc: 0.7672 - val_loss: 1.7533 - val_acc: 0.4043\n",
      "\n",
      "Epoch 00004: val_acc improved from 0.31915 to 0.40426, saving model to model_rnn.hdf5\n",
      "Epoch 5/15\n",
      "189/189 [==============================] - 124s 655ms/step - loss: 0.4378 - acc: 0.8730 - val_loss: 1.1530 - val_acc: 0.5745\n",
      "\n",
      "Epoch 00005: val_acc improved from 0.40426 to 0.57447, saving model to model_rnn.hdf5\n",
      "Epoch 6/15\n",
      "189/189 [==============================] - 125s 659ms/step - loss: 0.3430 - acc: 0.8995 - val_loss: 1.1911 - val_acc: 0.6170\n",
      "\n",
      "Epoch 00006: val_acc improved from 0.57447 to 0.61702, saving model to model_rnn.hdf5\n",
      "Epoch 7/15\n",
      "189/189 [==============================] - 126s 664ms/step - loss: 0.1595 - acc: 0.9418 - val_loss: 1.4280 - val_acc: 0.5532\n",
      "\n",
      "Epoch 00007: val_acc did not improve from 0.61702\n",
      "Epoch 8/15\n",
      "189/189 [==============================] - 127s 673ms/step - loss: 0.1171 - acc: 0.9735 - val_loss: 0.7753 - val_acc: 0.7021\n",
      "\n",
      "Epoch 00008: val_acc improved from 0.61702 to 0.70213, saving model to model_rnn.hdf5\n",
      "Epoch 9/15\n",
      "189/189 [==============================] - 131s 693ms/step - loss: 0.0792 - acc: 0.9841 - val_loss: 1.1821 - val_acc: 0.6596\n",
      "\n",
      "Epoch 00009: val_acc did not improve from 0.70213\n",
      "Epoch 10/15\n",
      "189/189 [==============================] - 125s 663ms/step - loss: 0.0451 - acc: 0.9841 - val_loss: 1.7747 - val_acc: 0.5745\n",
      "\n",
      "Epoch 00010: val_acc did not improve from 0.70213\n",
      "Epoch 11/15\n",
      "189/189 [==============================] - 122s 645ms/step - loss: 0.0685 - acc: 0.9841 - val_loss: 1.0693 - val_acc: 0.6383\n",
      "\n",
      "Epoch 00011: val_acc did not improve from 0.70213\n",
      "Epoch 12/15\n",
      "189/189 [==============================] - 121s 639ms/step - loss: 0.0307 - acc: 0.9894 - val_loss: 1.4274 - val_acc: 0.6170\n",
      "\n",
      "Epoch 00012: val_acc did not improve from 0.70213\n",
      "Epoch 13/15\n",
      "189/189 [==============================] - 121s 641ms/step - loss: 0.0012 - acc: 1.0000 - val_loss: 1.1364 - val_acc: 0.7234\n",
      "\n",
      "Epoch 00013: val_acc improved from 0.70213 to 0.72340, saving model to model_rnn.hdf5\n",
      "Epoch 14/15\n",
      "189/189 [==============================] - 122s 643ms/step - loss: 0.1095 - acc: 0.9841 - val_loss: 0.8764 - val_acc: 0.7021\n",
      "\n",
      "Epoch 00014: val_acc did not improve from 0.72340\n",
      "Epoch 15/15\n",
      "189/189 [==============================] - 120s 636ms/step - loss: 0.0042 - acc: 1.0000 - val_loss: 0.9480 - val_acc: 0.7447\n",
      "\n",
      "Epoch 00015: val_acc improved from 0.72340 to 0.74468, saving model to model_rnn.hdf5\n"
     ]
    }
   ],
   "source": [
    "cp=ModelCheckpoint('model_rnn.hdf5',monitor='val_acc',verbose=1,save_best_only=True)\n",
    "history=model.fit(x_train, y_train, validation_data=(x_val, y_val),epochs=15, batch_size=2,callbacks=[cp])"
   ]
  },
  {
   "cell_type": "code",
   "execution_count": 16,
   "metadata": {},
   "outputs": [
    {
     "data": {
      "image/png": "[encoded data removed]",
      "text/plain": [
       "<Figure size 432x288 with 1 Axes>"
      ]
     },
     "metadata": {},
     "output_type": "display_data"
    }
   ],
   "source": [
    "fig1 = plt.figure()\n",
    "plt.plot(history.history['loss'],'r',linewidth=3.0)\n",
    "plt.plot(history.history['val_loss'],'b',linewidth=3.0)\n",
    "plt.legend(['Training loss', 'Validation Loss'],fontsize=18)\n",
    "plt.xlabel('Epochs ',fontsize=16)\n",
    "plt.ylabel('Loss',fontsize=16)\n",
    "plt.title('Loss Curves :RNN',fontsize=16)\n",
    "fig1.savefig('loss_rnn.png')\n",
    "plt.show()"
   ]
  },
  {
   "cell_type": "code",
   "execution_count": 17,
   "metadata": {},
   "outputs": [
    {
     "data": {
      "image/png": "[encoded data removed]",
      "text/plain": [
       "<Figure size 432x288 with 1 Axes>"
      ]
     },
     "metadata": {},
     "output_type": "display_data"
    }
   ],
   "source": [
    "fig2=plt.figure()\n",
    "plt.plot(history.history['acc'],'r',linewidth=3.0)\n",
    "plt.plot(history.history['val_acc'],'b',linewidth=3.0)\n",
    "plt.legend(['Training Accuracy', 'Validation Accuracy'],fontsize=18)\n",
    "plt.xlabel('Epochs ',fontsize=16)\n",
    "plt.ylabel('Accuracy',fontsize=16)\n",
    "plt.title('Accuracy Curves : RNN',fontsize=16)\n",
    "fig2.savefig('accuracy_rnn.png')\n",
    "plt.show()"
   ]
  },
  {
   "cell_type": "code",
   "execution_count": 19,
   "metadata": {},
   "outputs": [
    {
     "name": "stdout",
     "output_type": "stream",
     "text": [
      "47/47 [==============================] - 4s 83ms/step\n",
      "Test accuracy: 0.7446808510638298\n"
     ]
    }
   ],
   "source": [
    "score = model.evaluate(x_val, y_val,\n",
    "                       batch_size=2, verbose=1)\n",
    "print('Test accuracy:', score[1])"
   ]
  },
  {
   "cell_type": "code",
   "execution_count": null,
   "metadata": {},
   "outputs": [],
   "source": []
  }
 ],
 "metadata": {
  "kernelspec": {
   "display_name": "Python 3",
   "language": "python",
   "name": "python3"
  },
  "language_info": {
   "codemirror_mode": {
    "name": "ipython",
    "version": 3
   },
   "file_extension": ".py",
   "mimetype": "text/x-python",
   "name": "python",
   "nbconvert_exporter": "python",
   "pygments_lexer": "ipython3",
   "version": "3.6.5"
  }
 },
 "nbformat": 4,
 "nbformat_minor": 2
}
