{
 "cells": [
  {
   "cell_type": "code",
   "execution_count": 1,
   "metadata": {},
   "outputs": [],
   "source": [
    "import pandas as pd"
   ]
  },
  {
   "cell_type": "code",
   "execution_count": 2,
   "metadata": {},
   "outputs": [],
   "source": [
    "df = pd.read_excel('WSD_Text.xlsx')"
   ]
  },
  {
   "cell_type": "code",
   "execution_count": 3,
   "metadata": {},
   "outputs": [
    {
     "data": {
      "text/html": [
       "<div>\n",
       "<style scoped>\n",
       "    .dataframe tbody tr th:only-of-type {\n",
       "        vertical-align: middle;\n",
       "    }\n",
       "\n",
       "    .dataframe tbody tr th {\n",
       "        vertical-align: top;\n",
       "    }\n",
       "\n",
       "    .dataframe thead th {\n",
       "        text-align: right;\n",
       "    }\n",
       "</style>\n",
       "<table border=\"1\" class=\"dataframe\">\n",
       "  <thead>\n",
       "    <tr style=\"text-align: right;\">\n",
       "      <th></th>\n",
       "      <th>Text</th>\n",
       "    </tr>\n",
       "  </thead>\n",
       "  <tbody>\n",
       "    <tr>\n",
       "      <th>0</th>\n",
       "      <td>penyerang paris saint germain psg neymar beran...</td>\n",
       "    </tr>\n",
       "    <tr>\n",
       "      <th>1</th>\n",
       "      <td>langkawi sepasang suami isteri yang juga suspe...</td>\n",
       "    </tr>\n",
       "    <tr>\n",
       "      <th>2</th>\n",
       "      <td>kuala terengganu presiden pas datuk seri abdul...</td>\n",
       "    </tr>\n",
       "    <tr>\n",
       "      <th>3</th>\n",
       "      <td>hulu langat tindakan pas yang masih membantu g...</td>\n",
       "    </tr>\n",
       "    <tr>\n",
       "      <th>4</th>\n",
       "      <td>semenyih presiden parti pribumi bersatu malays...</td>\n",
       "    </tr>\n",
       "  </tbody>\n",
       "</table>\n",
       "</div>"
      ],
      "text/plain": [
       "                                                Text\n",
       "0  penyerang paris saint germain psg neymar beran...\n",
       "1  langkawi sepasang suami isteri yang juga suspe...\n",
       "2  kuala terengganu presiden pas datuk seri abdul...\n",
       "3  hulu langat tindakan pas yang masih membantu g...\n",
       "4  semenyih presiden parti pribumi bersatu malays..."
      ]
     },
     "execution_count": 3,
     "metadata": {},
     "output_type": "execute_result"
    }
   ],
   "source": [
    "df.head()"
   ]
  },
  {
   "cell_type": "code",
   "execution_count": 4,
   "metadata": {},
   "outputs": [
    {
     "name": "stdout",
     "output_type": "stream",
     "text": [
      "20486133\n"
     ]
    }
   ],
   "source": [
    "print(df['Text'].apply(lambda x: len(x.split(' '))).sum())"
   ]
  },
  {
   "cell_type": "code",
   "execution_count": 6,
   "metadata": {
    "scrolled": false
   },
   "outputs": [],
   "source": [
    "textKey = df[df[\"Text\"].str.contains('madu')]"
   ]
  },
  {
   "cell_type": "code",
   "execution_count": 7,
   "metadata": {},
   "outputs": [
    {
     "name": "stdout",
     "output_type": "stream",
     "text": [
      "                                                    Text\n",
      "82     n seringkali kita mendengar penyataan bisnes b...\n",
      "138    washington presiden amerika syarikatdonald tru...\n",
      "216    kuala lumpur sidang dewan rakyat hari ini keco...\n",
      "323    penyanyi marsha milan londoh mengejutkan hadir...\n",
      "420    seremban kerajaan negeri sembilan bertindak me...\n",
      "537    kuala lumpur bantu orang muda melangsungkan pe...\n",
      "827    halia ialah sejenis rempah berakar dengan rasa...\n",
      "968    jitra tuala terpakai yang sudah lusuh mungkin ...\n",
      "1051   kuala terengganu gara gara cemburu madunya dib...\n",
      "1272   kuala lumpur berdasarkan manifesto pilihan ray...\n",
      "1363   kuala lumpur dap perlu menghormati budaya dan ...\n",
      "1875   manila pemimpin 21 anggota kerjasama ekonomi a...\n",
      "1930   kuala lumpur pelakon dan pengarah erma fatima ...\n",
      "2508   lagos insiden rempuhan pada khamis yang membab...\n",
      "2870   kuala lumpur pasca kematian hugo chavez menyak...\n",
      "3256   peserta gegarvaganza 3 gv3 siti sarah terharu ...\n",
      "3613   kuala lumpur majlis perwakilan pelajar mpp uni...\n",
      "4329   kuantan rakyat di negara ini diseru mengelakka...\n",
      "4440   atlet terengganu yang memenangi pingat emas da...\n",
      "4858   shah alam gelanggang pilihan raya umum ke 13 d...\n",
      "4977   kuala lumpur perdana menteri datuk seri najib ...\n",
      "5504   kangar sepasang suami isteri berusia 51 dan 19...\n",
      "5699   merbok candi nombor 11 yang ditemui baru baru ...\n",
      "5730   kuala lumpur pengalaman mengikuti datuknya ber...\n",
      "5824   riyadh seorang lelaki arab yang menimbulkan ke...\n",
      "5910   kuala terengganu kerajaan negeri dan jabatan h...\n",
      "6142   pemuzik bebas muhammad radzi abdul wahid atau ...\n",
      "6166   kuala terengganu pas akan menubuhkan majlis pe...\n",
      "6194   kerajaan negeri terengganu akan mengadakan ban...\n",
      "6867   penyanyi lagu lagu berunsur ketuhanan terkenal...\n",
      "...                                                  ...\n",
      "77449  alor gajah sifat hasad dengki menebal merupaka...\n",
      "77755  kuala nerang usahawan desa di negara ini diges...\n",
      "77790  kuala lumpur pelangi network management sdn bh...\n",
      "77870  george town allahyarham tajuddin zainal abidin...\n",
      "77946  davos perdana menteri india narendra modi meng...\n",
      "77985  davos dua puluh empat jam menjelang acara tahu...\n",
      "78011  kuala lumpur lawatan raja arab saudi raja salm...\n",
      "78058  kuala lumpur ketua umum pkr datuk seri anwar i...\n",
      "78125  hari ini tersebar gosip hubungan yang terjalin...\n",
      "78606  kuala lumpur pas pada rabu mencabar parti komp...\n",
      "78684  kuala lumpur perdana menteri datuk seri najib ...\n",
      "78912  kebiasaannya pasangan pengantin baru akan berc...\n",
      "78958  shah alam pemerhati politik yakin rakaman audi...\n",
      "78980  kuala lumpur kira kira 50 wakil media tempatan...\n",
      "79014  kuala lumpur perjuangan umno dalam kepentingan...\n",
      "79043  kuala lumpur dalam tempoh empat bulan rakyat m...\n",
      "79788  bukit mertajam pergerakan pemuda umno pulau pi...\n",
      "79838  di selatan sudan sebanyak 40 peratus perkahwin...\n",
      "79859  presiden venezuela nicolas maduro puji pasukan...\n",
      "79918  gorontalo seorang anggota agensi mencari dan m...\n",
      "80205  harga minyak mentah meningkat pada dagangan se...\n",
      "80263  selamat tahun baru 2019 di hujung tahun semasa...\n",
      "80712  kuala terengganu seorang wanita yang berstatus...\n",
      "80944  berdasarkan statistik e daftar rendah kementer...\n",
      "81520  dalam amalan berpersatuan perlunya ada nilai e...\n",
      "81532  kuala lumpur sebanyak tiga pilihan raya kecil ...\n",
      "81569  jelai perjalanan dari sungai koyan ke pos sind...\n",
      "81600  kuala lumpur dewan bahasa dan pustaka dbp akan...\n",
      "81868  selepas 61 tahun berlaku perubahan kerajaan pe...\n",
      "81941  kuala lumpur susulan penularan sekeping gambar...\n",
      "\n",
      "[498 rows x 1 columns]\n"
     ]
    }
   ],
   "source": [
    "print(textKey)"
   ]
  },
  {
   "cell_type": "code",
   "execution_count": 8,
   "metadata": {},
   "outputs": [],
   "source": [
    "from pandas import ExcelWriter\n",
    "from pandas import ExcelFile"
   ]
  },
  {
   "cell_type": "code",
   "execution_count": 9,
   "metadata": {},
   "outputs": [],
   "source": [
    "writer = ExcelWriter('WSD_madu.xlsx')\n",
    "textKey.to_excel(writer,'Sheet1',index=False)\n",
    "writer.save()"
   ]
  },
  {
   "cell_type": "code",
   "execution_count": 11,
   "metadata": {},
   "outputs": [
    {
     "name": "stdout",
     "output_type": "stream",
     "text": [
      "                                                    Text\n",
      "33491  sepakan gunting cristiano ronaldo ketika perla...\n"
     ]
    }
   ],
   "source": [
    "textKey = df[df[\"Text\"].str.match('sepak')]\n",
    "print(textKey)"
   ]
  },
  {
   "cell_type": "code",
   "execution_count": null,
   "metadata": {},
   "outputs": [],
   "source": []
  }
 ],
 "metadata": {
  "kernelspec": {
   "display_name": "Python 3",
   "language": "python",
   "name": "python3"
  },
  "language_info": {
   "codemirror_mode": {
    "name": "ipython",
    "version": 3
   },
   "file_extension": ".py",
   "mimetype": "text/x-python",
   "name": "python",
   "nbconvert_exporter": "python",
   "pygments_lexer": "ipython3",
   "version": "3.7.1"
  }
 },
 "nbformat": 4,
 "nbformat_minor": 2
}
