{
 "cells": [
  {
   "cell_type": "code",
   "execution_count": 1,
   "metadata": {},
   "outputs": [],
   "source": [
    "from gensim.models import Word2Vec"
   ]
  },
  {
   "cell_type": "code",
   "execution_count": 2,
   "metadata": {},
   "outputs": [
    {
     "name": "stdout",
     "output_type": "stream",
     "text": [
      "Wall time: 531 ms\n"
     ]
    }
   ],
   "source": [
    "%time model = Word2Vec.load(\"word2vecBM.model\")"
   ]
  },
  {
   "cell_type": "code",
   "execution_count": 3,
   "metadata": {},
   "outputs": [
    {
     "name": "stdout",
     "output_type": "stream",
     "text": [
      "Number of word vectors: 24132\n"
     ]
    }
   ],
   "source": [
    "word_vectors = model.wv\n",
    "print(\"Number of word vectors: {}\".format(len(word_vectors.vocab)))"
   ]
  },
  {
   "cell_type": "code",
   "execution_count": 4,
   "metadata": {},
   "outputs": [],
   "source": [
    "MAX_NB_WORDS = len(word_vectors.vocab)\n",
    "MAX_SEQUENCE_LENGTH = 1000\n",
    "EMBEDDING_DIM = 150 #100\n",
    "VALIDATION_SPLIT = 0.1"
   ]
  },
  {
   "cell_type": "code",
   "execution_count": 5,
   "metadata": {},
   "outputs": [
    {
     "name": "stderr",
     "output_type": "stream",
     "text": [
      "Using TensorFlow backend.\n"
     ]
    }
   ],
   "source": [
    "import numpy as np\n",
    "import pandas as pd\n",
    "import pickle\n",
    "from collections import defaultdict\n",
    "import re\n",
    "from bs4 import BeautifulSoup\n",
    "import sys\n",
    "import os\n",
    "#os.environ['KERAS_BACKEND']='theano'\n",
    "from keras.preprocessing.text import Tokenizer\n",
    "from keras.preprocessing.sequence import pad_sequences\n",
    "from keras.utils.np_utils import to_categorical\n",
    "from keras.layers import Embedding\n",
    "from keras.layers import Dense, Input, Flatten\n",
    "from keras.layers import Conv1D, MaxPooling1D, Embedding, Dropout, LSTM, GRU, Bidirectional\n",
    "from keras.models import Model\n",
    "from keras.callbacks import ModelCheckpoint\n",
    "import matplotlib.pyplot as plt\n",
    "plt.switch_backend('agg')\n",
    "from keras import backend as K\n",
    "from keras.engine.topology import Layer, InputSpec\n",
    "from keras import initializers\n",
    "%matplotlib inline"
   ]
  },
  {
   "cell_type": "code",
   "execution_count": 6,
   "metadata": {},
   "outputs": [],
   "source": [
    "def clean_str(string):\n",
    "    string = re.sub(r\"\\\\\", \"\", string)\n",
    "    string = re.sub(r\"\\'\", \"\", string)\n",
    "    string = re.sub(r\"\\\"\", \"\", string)\n",
    "    return string.strip().lower()"
   ]
  },
  {
   "cell_type": "code",
   "execution_count": 7,
   "metadata": {},
   "outputs": [
    {
     "name": "stdout",
     "output_type": "stream",
     "text": [
      "Shape of dataset  (104, 4)\n",
      "Index(['Words', 'Sense_Index', 'Sense_Description', 'Sense_Example'], dtype='object')\n",
      "No. of unique classes 104\n",
      "No. of tokens 850\n"
     ]
    }
   ],
   "source": [
    "# reading data\n",
    "df = pd.read_excel('WSD_Dictionary.xlsx')\n",
    "df = df.dropna()\n",
    "df = df.reset_index(drop=True)\n",
    "print('Shape of dataset ',df.shape)\n",
    "print(df.columns)\n",
    "print('No. of unique classes',len(set(df['Sense_Index'])))\n",
    "print('No. of tokens',df['Sense_Example'].apply(lambda x: len(x.split(' '))).sum())"
   ]
  },
  {
   "cell_type": "code",
   "execution_count": 8,
   "metadata": {},
   "outputs": [],
   "source": [
    "macronum=sorted(set(df['Sense_Index']))\n",
    "macro_to_id = dict((note, number) for number, note in enumerate(macronum))\n",
    "\n",
    "def fun(i):\n",
    "    return macro_to_id[i]\n",
    "\n",
    "df['class']=df['Sense_Index'].apply(fun)"
   ]
  },
  {
   "cell_type": "code",
   "execution_count": 9,
   "metadata": {},
   "outputs": [
    {
     "name": "stdout",
     "output_type": "stream",
     "text": [
      "<class 'pandas.core.frame.DataFrame'>\n",
      "RangeIndex: 104 entries, 0 to 103\n",
      "Data columns (total 5 columns):\n",
      "Words                104 non-null object\n",
      "Sense_Index          104 non-null object\n",
      "Sense_Description    104 non-null object\n",
      "Sense_Example        104 non-null object\n",
      "class                104 non-null int64\n",
      "dtypes: int64(1), object(4)\n",
      "memory usage: 4.1+ KB\n"
     ]
    }
   ],
   "source": [
    "df.info()"
   ]
  },
  {
   "cell_type": "code",
   "execution_count": 10,
   "metadata": {},
   "outputs": [],
   "source": [
    "texts = []\n",
    "labels = []\n",
    "\n",
    "for idx in range(df.Sense_Description.shape[0]):\n",
    "    text = BeautifulSoup(df.Sense_Description[idx],\"lxml\")\n",
    "    texts.append(clean_str(str(text.get_text().encode())))\n",
    "\n",
    "for idx in df['class']:\n",
    "    labels.append(idx)"
   ]
  },
  {
   "cell_type": "code",
   "execution_count": 11,
   "metadata": {},
   "outputs": [
    {
     "name": "stdout",
     "output_type": "stream",
     "text": [
      "Number of Unique Tokens 244\n"
     ]
    }
   ],
   "source": [
    "tokenizer = Tokenizer(num_words=MAX_NB_WORDS)\n",
    "tokenizer.fit_on_texts(texts)\n",
    "sequences = tokenizer.texts_to_sequences(texts)\n",
    "\n",
    "word_index = tokenizer.word_index\n",
    "\n",
    "print('Number of Unique Tokens',len(word_index))"
   ]
  },
  {
   "cell_type": "code",
   "execution_count": 12,
   "metadata": {},
   "outputs": [
    {
     "name": "stdout",
     "output_type": "stream",
     "text": [
      "Shape of Data Tensor: (104, 1000)\n",
      "Shape of Label Tensor: (104, 104)\n"
     ]
    }
   ],
   "source": [
    "data = pad_sequences(sequences, maxlen=MAX_SEQUENCE_LENGTH)\n",
    "\n",
    "labels = to_categorical(np.asarray(labels))\n",
    "print('Shape of Data Tensor:', data.shape)\n",
    "print('Shape of Label Tensor:', labels.shape)\n",
    "\n",
    "indices = np.arange(data.shape[0])\n",
    "np.random.shuffle(indices)\n",
    "data = data[indices]\n",
    "labels = labels[indices]\n",
    "nb_validation_samples = int(VALIDATION_SPLIT * data.shape[0])\n",
    "\n",
    "x_train = data[:-nb_validation_samples]\n",
    "y_train = labels[:-nb_validation_samples]\n",
    "x_val = data[-nb_validation_samples:]\n",
    "y_val = labels[-nb_validation_samples:]"
   ]
  },
  {
   "cell_type": "code",
   "execution_count": 13,
   "metadata": {},
   "outputs": [],
   "source": [
    "nb_words = min(MAX_NB_WORDS, len(word_vectors.vocab))\n",
    "# we initialize the matrix with random numbers\n",
    "wv_matrix = (np.random.rand(nb_words, EMBEDDING_DIM) - 0.5) / 5.0\n",
    "for word, i in word_index.items():\n",
    "    if i >= MAX_NB_WORDS:\n",
    "        continue\n",
    "    try:\n",
    "        embedding_vector = word_vectors[word]\n",
    "        # words not found in embedding index will be all-zeros.\n",
    "        wv_matrix[i] = embedding_vector\n",
    "    except:\n",
    "        pass"
   ]
  },
  {
   "cell_type": "code",
   "execution_count": 14,
   "metadata": {},
   "outputs": [],
   "source": [
    "embedding_layer = Embedding(nb_words,\n",
    "                            EMBEDDING_DIM,\n",
    "                            weights=[wv_matrix],\n",
    "                            input_length=MAX_SEQUENCE_LENGTH,\n",
    "                            trainable=True)"
   ]
  },
  {
   "cell_type": "code",
   "execution_count": 15,
   "metadata": {},
   "outputs": [
    {
     "name": "stdout",
     "output_type": "stream",
     "text": [
      "Bidirectional LSTM\n",
      "_________________________________________________________________\n",
      "Layer (type)                 Output Shape              Param #   \n",
      "=================================================================\n",
      "input_1 (InputLayer)         (None, 1000)              0         \n",
      "_________________________________________________________________\n",
      "embedding_1 (Embedding)      (None, 1000, 150)         3619800   \n",
      "_________________________________________________________________\n",
      "bidirectional_1 (Bidirection (None, 300)               361200    \n",
      "_________________________________________________________________\n",
      "dense_1 (Dense)              (None, 104)               31304     \n",
      "=================================================================\n",
      "Total params: 4,012,304\n",
      "Trainable params: 4,012,304\n",
      "Non-trainable params: 0\n",
      "_________________________________________________________________\n"
     ]
    }
   ],
   "source": [
    "sequence_input = Input(shape=(MAX_SEQUENCE_LENGTH,), dtype='int32')\n",
    "embedded_sequences = embedding_layer(sequence_input)\n",
    "l_lstm = Bidirectional(LSTM(150))(embedded_sequences)\n",
    "preds = Dense(len(macronum), activation='softmax')(l_lstm)\n",
    "model = Model(sequence_input, preds)\n",
    "model.compile(loss='categorical_crossentropy',\n",
    "              optimizer='adam',\n",
    "              metrics=['acc'])\n",
    "\n",
    "print(\"Bidirectional LSTM\")\n",
    "model.summary()"
   ]
  },
  {
   "cell_type": "code",
   "execution_count": 16,
   "metadata": {},
   "outputs": [
    {
     "name": "stdout",
     "output_type": "stream",
     "text": [
      "Train on 94 samples, validate on 10 samples\n",
      "Epoch 1/20\n",
      "94/94 [==============================] - 25s 267ms/step - loss: 4.6611 - acc: 0.0106 - val_loss: 4.6950 - val_acc: 0.0000e+00\n",
      "\n",
      "Epoch 00001: val_acc improved from -inf to 0.00000, saving model to model_lstm.hdf5\n",
      "Epoch 2/20\n",
      "94/94 [==============================] - 19s 197ms/step - loss: 4.6345 - acc: 0.0000e+00 - val_loss: 4.7480 - val_acc: 0.0000e+00\n",
      "\n",
      "Epoch 00002: val_acc did not improve from 0.00000\n",
      "Epoch 3/20\n",
      "94/94 [==============================] - 18s 197ms/step - loss: 4.6171 - acc: 0.0319 - val_loss: 4.8118 - val_acc: 0.0000e+00\n",
      "\n",
      "Epoch 00003: val_acc did not improve from 0.00000\n",
      "Epoch 4/20\n",
      "94/94 [==============================] - 18s 194ms/step - loss: 4.5996 - acc: 0.0745 - val_loss: 4.8935 - val_acc: 0.0000e+00\n",
      "\n",
      "Epoch 00004: val_acc did not improve from 0.00000\n",
      "Epoch 5/20\n",
      "94/94 [==============================] - 18s 197ms/step - loss: 4.5808 - acc: 0.0532 - val_loss: 5.0212 - val_acc: 0.0000e+00\n",
      "\n",
      "Epoch 00005: val_acc did not improve from 0.00000\n",
      "Epoch 6/20\n",
      "94/94 [==============================] - 19s 201ms/step - loss: 4.5607 - acc: 0.0532 - val_loss: 5.2261 - val_acc: 0.0000e+00\n",
      "\n",
      "Epoch 00006: val_acc did not improve from 0.00000\n",
      "Epoch 7/20\n",
      "94/94 [==============================] - 18s 192ms/step - loss: 4.5344 - acc: 0.0106 - val_loss: 5.5768 - val_acc: 0.0000e+00\n",
      "\n",
      "Epoch 00007: val_acc did not improve from 0.00000\n",
      "Epoch 8/20\n",
      "94/94 [==============================] - 19s 204ms/step - loss: 4.5125 - acc: 0.0213 - val_loss: 6.1502 - val_acc: 0.0000e+00\n",
      "\n",
      "Epoch 00008: val_acc did not improve from 0.00000\n",
      "Epoch 9/20\n",
      "94/94 [==============================] - 19s 204ms/step - loss: 4.4852 - acc: 0.0213 - val_loss: 6.4412 - val_acc: 0.0000e+00\n",
      "\n",
      "Epoch 00009: val_acc did not improve from 0.00000\n",
      "Epoch 10/20\n",
      "94/94 [==============================] - 18s 196ms/step - loss: 4.4537 - acc: 0.0319 - val_loss: 6.6918 - val_acc: 0.0000e+00\n",
      "\n",
      "Epoch 00010: val_acc did not improve from 0.00000\n",
      "Epoch 11/20\n",
      "94/94 [==============================] - 18s 188ms/step - loss: 4.4248 - acc: 0.0213 - val_loss: 7.0327 - val_acc: 0.0000e+00\n",
      "\n",
      "Epoch 00011: val_acc did not improve from 0.00000\n",
      "Epoch 12/20\n",
      "94/94 [==============================] - 19s 200ms/step - loss: 4.3903 - acc: 0.0638 - val_loss: 7.4338 - val_acc: 0.0000e+00\n",
      "\n",
      "Epoch 00012: val_acc did not improve from 0.00000\n",
      "Epoch 13/20\n",
      "94/94 [==============================] - 19s 197ms/step - loss: 4.3403 - acc: 0.1277 - val_loss: 7.8424 - val_acc: 0.0000e+00\n",
      "\n",
      "Epoch 00013: val_acc did not improve from 0.00000\n",
      "Epoch 14/20\n",
      "94/94 [==============================] - 19s 202ms/step - loss: 4.2907 - acc: 0.1383 - val_loss: 8.3013 - val_acc: 0.0000e+00\n",
      "\n",
      "Epoch 00014: val_acc did not improve from 0.00000\n",
      "Epoch 15/20\n",
      "94/94 [==============================] - 19s 204ms/step - loss: 4.2225 - acc: 0.2766 - val_loss: 8.4757 - val_acc: 0.0000e+00\n",
      "\n",
      "Epoch 00015: val_acc did not improve from 0.00000\n",
      "Epoch 16/20\n",
      "94/94 [==============================] - 19s 198ms/step - loss: 4.2031 - acc: 0.2447 - val_loss: 8.5907 - val_acc: 0.0000e+00\n",
      "\n",
      "Epoch 00016: val_acc did not improve from 0.00000\n",
      "Epoch 17/20\n",
      "94/94 [==============================] - 18s 197ms/step - loss: 4.2451 - acc: 0.1489 - val_loss: 9.0259 - val_acc: 0.0000e+00\n",
      "\n",
      "Epoch 00017: val_acc did not improve from 0.00000\n",
      "Epoch 18/20\n",
      "94/94 [==============================] - 19s 201ms/step - loss: 4.2616 - acc: 0.0532 - val_loss: 10.7574 - val_acc: 0.0000e+00\n",
      "\n",
      "Epoch 00018: val_acc did not improve from 0.00000\n",
      "Epoch 19/20\n",
      "94/94 [==============================] - 18s 196ms/step - loss: 4.4673 - acc: 0.0106 - val_loss: 9.4886 - val_acc: 0.0000e+00\n",
      "\n",
      "Epoch 00019: val_acc did not improve from 0.00000\n",
      "Epoch 20/20\n",
      "94/94 [==============================] - 18s 190ms/step - loss: 4.3724 - acc: 0.0745 - val_loss: 7.0872 - val_acc: 0.0000e+00\n",
      "\n",
      "Epoch 00020: val_acc did not improve from 0.00000\n",
      "Wall time: 6min 45s\n"
     ]
    }
   ],
   "source": [
    "cp=ModelCheckpoint('model_lstm.hdf5',monitor='val_acc',verbose=1,save_best_only=True)\n",
    "%time history=model.fit(x_train, y_train, validation_data=(x_val, y_val),epochs=20, batch_size=32, callbacks=[cp])"
   ]
  },
  {
   "cell_type": "code",
   "execution_count": 17,
   "metadata": {},
   "outputs": [
    {
     "data": {
      "image/png": "[encoded data removed]",
      "text/plain": [
       "<Figure size 432x288 with 1 Axes>"
      ]
     },
     "metadata": {
      "needs_background": "light"
     },
     "output_type": "display_data"
    }
   ],
   "source": [
    "fig1 = plt.figure()\n",
    "plt.plot(history.history['loss'],'r',linewidth=3.0)\n",
    "plt.plot(history.history['val_loss'],'b',linewidth=3.0)\n",
    "plt.legend(['Training loss', 'Validation Loss'],fontsize=18)\n",
    "plt.xlabel('Epochs ',fontsize=16)\n",
    "plt.ylabel('Loss',fontsize=16)\n",
    "plt.title('Loss Curves :RNN',fontsize=16)\n",
    "fig1.savefig('loss_rnn.png')\n",
    "plt.show()"
   ]
  },
  {
   "cell_type": "code",
   "execution_count": 18,
   "metadata": {},
   "outputs": [
    {
     "data": {
      "image/png": "[encoded data removed]",
      "text/plain": [
       "<Figure size 432x288 with 1 Axes>"
      ]
     },
     "metadata": {
      "needs_background": "light"
     },
     "output_type": "display_data"
    }
   ],
   "source": [
    "fig2=plt.figure()\n",
    "plt.plot(history.history['acc'],'r',linewidth=3.0)\n",
    "plt.plot(history.history['val_acc'],'b',linewidth=3.0)\n",
    "plt.legend(['Training Accuracy', 'Validation Accuracy'],fontsize=18)\n",
    "plt.xlabel('Epochs ',fontsize=16)\n",
    "plt.ylabel('Accuracy',fontsize=16)\n",
    "plt.title('Accuracy Curves : RNN',fontsize=16)\n",
    "fig2.savefig('accuracy_rnn.png')\n",
    "plt.show()"
   ]
  },
  {
   "cell_type": "code",
   "execution_count": 19,
   "metadata": {},
   "outputs": [
    {
     "name": "stdout",
     "output_type": "stream",
     "text": [
      "10/10 [==============================] - 1s 77ms/step\n",
      "Test accuracy: 0.0\n"
     ]
    }
   ],
   "source": [
    "score = model.evaluate(x_val, y_val,\n",
    "                       batch_size=2, verbose=1)\n",
    "print('Test accuracy:', score[1])"
   ]
  },
  {
   "cell_type": "code",
   "execution_count": null,
   "metadata": {},
   "outputs": [],
   "source": []
  }
 ],
 "metadata": {
  "kernelspec": {
   "display_name": "Python 3",
   "language": "python",
   "name": "python3"
  },
  "language_info": {
   "codemirror_mode": {
    "name": "ipython",
    "version": 3
   },
   "file_extension": ".py",
   "mimetype": "text/x-python",
   "name": "python",
   "nbconvert_exporter": "python",
   "pygments_lexer": "ipython3",
   "version": "3.6.8"
  }
 },
 "nbformat": 4,
 "nbformat_minor": 2
}
